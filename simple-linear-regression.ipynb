{
 "cells": [
  {
   "cell_type": "markdown",
   "metadata": {},
   "source": [
    "# Simple Linear Regression on DBNN"
   ]
  },
  {
   "cell_type": "code",
   "execution_count": null,
   "metadata": {
    "pycharm": {
     "is_executing": false,
     "name": "#%%\n"
    }
   },
   "outputs": [],
   "source": [
    "import math\n",
    "import time\n",
    "import numpy as np\n",
    "import tensorflow as tf\n",
    "import matplotlib.pyplot as plt\n",
    "from dbnn.dbnn import DBNN\n",
    "from dbnn.och import OCH"
   ]
  },
  {
   "cell_type": "code",
   "execution_count": null,
   "metadata": {
    "pycharm": {
     "is_executing": false,
     "name": "#%%\n"
    }
   },
   "outputs": [],
   "source": [
    "savefig = False\n",
    "\n",
    "plt.rcParams[\"font.family\"] = \"serif\"\n",
    "plt.rcParams[\"mathtext.fontset\"] = \"dejavuserif\"\n",
    "\n",
    "if not savefig:\n",
    "    plt.rcParams[\"figure.figsize\"] = (4, 4)\n",
    "    plt.rcParams[\"font.size\"] = 15\n",
    "    plt.rcParams[\"figure.titlesize\"] = 25\n",
    "    plt.rcParams[\"axes.labelsize\"] = 20\n",
    "    plt.rcParams[\"xtick.labelsize\"] = 15\n",
    "    plt.rcParams[\"ytick.labelsize\"] = 15\n",
    "    plt.rcParams[\"legend.fontsize\"] = 13\n",
    "    plt.rcParams[\"lines.linewidth\"] = 2\n",
    "else:\n",
    "    plt.rcParams[\"figure.figsize\"] = (8, 8)\n",
    "    plt.rcParams[\"font.size\"] = 30\n",
    "    plt.rcParams[\"axes.labelsize\"] = 53\n",
    "    plt.rcParams[\"xtick.labelsize\"] = 40\n",
    "    plt.rcParams[\"ytick.labelsize\"] = 40\n",
    "    plt.rcParams[\"legend.fontsize\"] = 28\n",
    "    plt.rcParams[\"lines.linewidth\"] = 4"
   ]
  },
  {
   "cell_type": "code",
   "execution_count": null,
   "metadata": {
    "pycharm": {
     "is_executing": false,
     "name": "#%%\n"
    }
   },
   "outputs": [],
   "source": [
    "# experiment\n",
    "v, x_0_var = 0.2, 0.0\n",
    "start, end = 0.0, 3.0\n",
    "iter_no = 100\n",
    "seed = 30\n",
    "\n",
    "# model\n",
    "op = lambda x: [x[0], x[1][0] * x[0] + x[1][1]]\n",
    "x_1_means, x_1_vars = tf.constant([1.0, 0.0]), tf.constant([0.0, 0.2])\n",
    "\n",
    "# och parameters\n",
    "x_dims, y_dims = [1, 2], [1, 1]\n",
    "och_x1_params = {'k': 5, 'l': 5.0, 's': 1.0}\n",
    "och_x_params = {'k': 5, 'l': 1.0, 's': 1.0}\n",
    "och_y_params = {'k': 5, 'l': 1.0, 's': 1.0}\n",
    "\n",
    "# style\n",
    "alpha = 0.12\n",
    "colors = [\"tab:blue\", \"tab:green\", \"tab:purple\", \"tab:red\"]\n",
    "labels = [\"DNN\", \"MU\", \"DU\", \"DBNN\"]\n",
    "guide_linestyle=(0, (1, 1))\n",
    "linestyles = [(0, (5, 1)), 'solid', (0, (5, 1)), 'solid']"
   ]
  },
  {
   "cell_type": "code",
   "execution_count": null,
   "metadata": {
    "pycharm": {
     "is_executing": false,
     "name": "#%%\n"
    }
   },
   "outputs": [],
   "source": [
    "tf.random.set_seed(seed)\n",
    "np.random.seed(seed)\n",
    "\n",
    "step = math.floor((end - start) / v) + 1\n",
    "x_0_meanss = [v * tf.reshape(tf.range(step, dtype=tf.float32), shape=[step, 1]) + start * tf.ones(shape=[step, 1]) for _ in range(iter_no)]\n",
    "x_0_ess = [x_0_var * tf.random.normal(shape=[step, 1]) for _ in range(iter_no)]\n",
    "x_0ss = [x_0_means + x_0_es for x_0_means, x_0_es in zip(x_0_meanss, x_0_ess)]\n",
    "x_0lat = x_0ss[0][-1].numpy()"
   ]
  },
  {
   "cell_type": "markdown",
   "metadata": {},
   "source": [
    "## DNN"
   ]
  },
  {
   "cell_type": "code",
   "execution_count": null,
   "metadata": {
    "scrolled": true
   },
   "outputs": [],
   "source": [
    "dnn_xs, dnn_ys, dnn_y_exps, dnn_y_vars = [], [], [], []\n",
    "for x_0s in x_0ss:\n",
    "    dnn_y_exp, dnn_y_var, dnn_runtimes = [], [], []\n",
    "    for x_0 in x_0s:\n",
    "        x_1s = [x_1_means]\n",
    "        dnn_xs = [[x_0, x_1] for x_1 in x_1s]\n",
    "        time1 = time.time()\n",
    "        dnn_ys = [op(x) for x in dnn_xs]\n",
    "        time2 = time.time()\n",
    "        \n",
    "        mean, variance = tf.nn.moments(tf.stack([dnn_y for dnn_y in dnn_ys]), axes=[0])\n",
    "        dnn_y_exp.append(mean)\n",
    "        dnn_y_var.append(variance)\n",
    "        dnn_runtimes.append(time2 - time1)\n",
    "    dnn_y_exps.append(dnn_y_exp)\n",
    "    dnn_y_vars.append(dnn_y_var)\n",
    "\n",
    "print(\"DNN Runtime: %.3f ± %.3f (ms)\" % ( np.mean(dnn_runtimes) * 10 ** 3, np.std(dnn_runtimes) * 10 ** 3))"
   ]
  },
  {
   "cell_type": "markdown",
   "metadata": {},
   "source": [
    "## Model Uncertainty (MU)"
   ]
  },
  {
   "cell_type": "code",
   "execution_count": null,
   "metadata": {
    "scrolled": false
   },
   "outputs": [],
   "source": [
    "x_1_sample_no = 30\n",
    "\n",
    "mu_xs, mu_ys, mu_y_exps, mu_y_vars, mu_runtimes = [], [], [], [], []\n",
    "for x_0s in x_0ss:\n",
    "    mu_y_exp, mu_y_var = [], []\n",
    "    for x_0 in x_0s:\n",
    "        x_1s = [tf.random.normal(shape=[len(x_1_vars)]) * x_1_vars + x_1_means for _ in range(x_1_sample_no)]\n",
    "        mu_xs = [[x_0, x_1] for x_1 in x_1s]\n",
    "        time1 = time.time()\n",
    "        mu_ys = [op(x) for x in mu_xs]\n",
    "        time2 = time.time()\n",
    "        \n",
    "        mean, variance = tf.nn.moments(tf.stack([mu_y for mu_y in mu_ys]), axes=[0])\n",
    "        mu_y_exp.append(mean)\n",
    "        mu_y_var.append(variance)\n",
    "        mu_runtimes.append(time2 - time1)\n",
    "    mu_y_exps.append(mu_y_exp)\n",
    "    mu_y_vars.append(mu_y_var)\n",
    "\n",
    "print(\"MU Runtime: %.3f ± %.3f (ms)\" % ( np.mean(mu_runtimes) * 10 ** 3, np.std(mu_runtimes) * 10 ** 3))"
   ]
  },
  {
   "cell_type": "markdown",
   "metadata": {},
   "source": [
    "## Data Uncertainty (DU)"
   ]
  },
  {
   "cell_type": "code",
   "execution_count": null,
   "metadata": {},
   "outputs": [],
   "source": [
    "x_1s = [[x_1_means]]\n",
    "och_x_1 = OCH(**och_x1_params, dims=x_dims[1:], hash_no=3, cs=x_1s)\n",
    "och_x = OCH(**och_x_params, dims=x_dims, hash_no=1)\n",
    "och_y = OCH(**och_y_params, dims=y_dims, hash_no=1)\n",
    "du = DBNN(op, och_x_1, och_x, och_y)\n",
    "\n",
    "du_y_exps, du_y_vars, du_runtimes = [], [], []\n",
    "for x_0s in x_0ss:\n",
    "    du.clear()\n",
    "    du_y_exp, du_y_var = [], []\n",
    "    for x_0 in x_0s:\n",
    "        time1 = time.time()\n",
    "        du.update(x_0)\n",
    "        time2 = time.time()\n",
    "        \n",
    "        du_y_exp.append(du.och_y.expected())\n",
    "        du_y_var.append(du.och_y.var())\n",
    "        du_runtimes.append(time2 - time1)\n",
    "    du_y_exps.append(du_y_exp)\n",
    "    du_y_vars.append(du_y_var)\n",
    "        \n",
    "du_xs = [c for c, _ in du.och_x.cws()]\n",
    "du_xws = [w for _, w in du.och_x.cws()]\n",
    "du_ys = [c for c, _ in du.och_y.cws()] \n",
    "du_yws = [w for _, w in du.och_y.cws()]\n",
    "\n",
    "print(\"DU Runtime: %.3f ± %.3f (ms)\" % ( np.mean(du_runtimes) * 10 ** 3, np.std(du_runtimes) * 10 ** 3))"
   ]
  },
  {
   "cell_type": "markdown",
   "metadata": {},
   "source": [
    "## DBNN"
   ]
  },
  {
   "cell_type": "code",
   "execution_count": null,
   "metadata": {
    "pycharm": {
     "is_executing": false,
     "name": "#%%\n"
    }
   },
   "outputs": [],
   "source": [
    "x_1s = [[x_1_means + tf.random.normal(shape=[len(x_1_vars)]) * x_1_vars] for _ in range(och_x1_params['k'])]\n",
    "och_x_1 = OCH(**och_x1_params, dims=x_dims[1:], hash_no=3, cs=x_1s)\n",
    "och_x = OCH(**och_x_params, dims=x_dims, hash_no=1)\n",
    "och_y = OCH(**och_y_params, dims=y_dims, hash_no=1)\n",
    "dbnn = DBNN(op, och_x_1, och_x, och_y)\n",
    "\n",
    "dbnn_y_exps, dbnn_y_vars, dbnn_runtimes = [], [], []\n",
    "for x_0s in x_0ss:\n",
    "    dbnn.clear()\n",
    "    dbnn_y_exp, dbnn_y_var = [], []\n",
    "    for x_0 in x_0s:\n",
    "        time1 = time.time()\n",
    "        dbnn.update(x_0)\n",
    "        time2 = time.time()\n",
    "        \n",
    "        dbnn_y_exp.append(dbnn.och_y.expected())\n",
    "        dbnn_y_var.append(dbnn.och_y.var())\n",
    "        dbnn_runtimes.append(time2 - time1)\n",
    "    dbnn_y_exps.append(dbnn_y_exp)\n",
    "    dbnn_y_vars.append(dbnn_y_var)\n",
    "\n",
    "dbnn_xs = [c for c, _ in dbnn.och_x.cws()] \n",
    "dbnn_xws = [w for _, w in dbnn.och_x.cws()] \n",
    "dbnn_ys = [c for c, _ in dbnn.och_y.cws()] \n",
    "dbnn_yws = [w for _, w in dbnn.och_y.cws()] \n",
    "\n",
    "print(\"DBNN Runtime: %.3f ± %.3f (ms)\" % ( np.mean(dbnn_runtimes) * 10 ** 3, np.std(dbnn_runtimes) * 10 ** 3))"
   ]
  },
  {
   "cell_type": "markdown",
   "metadata": {},
   "source": [
    "## x-y Plot"
   ]
  },
  {
   "cell_type": "code",
   "execution_count": null,
   "metadata": {
    "pycharm": {
     "name": "#%%\n"
    },
    "scrolled": false
   },
   "outputs": [],
   "source": [
    "xs = [dnn_xs, mu_xs, du_xs, dbnn_xs]\n",
    "xws = [np.ones(len(dnn_xs)) / (len(dnn_xs)), np.ones(len(mu_xs)) / (len(mu_xs)), du_xws, dbnn_xws]\n",
    "ys = [dnn_ys, mu_ys, du_ys, dbnn_ys]\n",
    "yws = [np.ones(len(dnn_ys)) / (len(dnn_ys)), np.ones(len(mu_ys)) / (len(mu_ys)), du_yws, dbnn_yws]\n",
    "\n",
    "fig, axs = plt.subplots(nrows=3, ncols=4, figsize=(14, 12))\n",
    "fig.suptitle(\"$v$ = %0.2f\" % v + \", $x^0$ = %0.2f\" % x_0lat)\n",
    "\n",
    "for i, (x, xw, y, yw, color) in enumerate(zip(xs, xws, ys, yws, colors)):    \n",
    "    x_0s = [x_0.numpy() for x_0, _ in x]\n",
    "    x_0_start, x_0_end = x_0lat[0] - 2, x_0lat[0] + 2\n",
    "    \n",
    "    x_1as, x_1bs = [x_1[0].numpy() for _, x_1 in x], [x_1[1].numpy() for _, x_1 in x]\n",
    "    x_1_start, x_1_end = (x_1_means - x_1_vars * 1.65).numpy(), (x_1_means + x_1_vars * 1.65).numpy()\n",
    "    x_1_start_lim, x_1_end_lim = (x_1_means - x_1_vars * 5).numpy(), (x_1_means + x_1_vars * 5).numpy()\n",
    "\n",
    "    y_0s, y_1s = [y_0.numpy() for y_0, _ in y], [y_1.numpy() for _, y_1 in y]\n",
    "    x_mean, x_start, x_end = [x_0lat, x_1_means], [x_0lat, x_1_start], [x_0lat, x_1_end]\n",
    "    y_mean, y_start, y_end = op(x_mean), op(x_start), op(x_end)\n",
    "    y_start_lim, y_end_lim = op([x_0lat, x_1_start_lim]), op([x_0lat, x_1_end_lim])\n",
    "    \n",
    "    # x_0 - x_1a plot\n",
    "    ax = axs[0][i]\n",
    "    ax.set_xlim(x_0_start, x_0_end)\n",
    "    ax.set_ylim(x_1_start_lim[0], x_1_end_lim[0])\n",
    "    ax.set_xlabel(\"$x^0$\")\n",
    "    ax.set_ylabel(\"$x^1_{a}$\")\n",
    "    \n",
    "    ax.fill_between(np.linspace(x_0_start, x_0_end, 10), [x_1_start[0]] * 10, [x_1_end[0]] * 10, color=\"black\", alpha=alpha)\n",
    "    ax.plot(np.linspace(x_0_start, x_0_end, 10), [1] * 10, linestyle=guide_linestyle, color=\"black\")\n",
    "    ax.scatter(x_0s, x_1as, s=[w * 500 for w in xw], facecolors='none', edgecolors=color, marker='o')\n",
    "\n",
    "    # x_0 - x_1b plot\n",
    "    ax = axs[1][i]\n",
    "    ax.set_xlim(x_0_start, x_0_end)\n",
    "    ax.set_ylim(x_1_start_lim[1], x_1_end_lim[1])\n",
    "    ax.set_xlabel(\"$x^0$\")\n",
    "    ax.set_ylabel(\"$x^1_{b}$\")\n",
    "\n",
    "    ax.fill_between(np.linspace(x_0_start, x_0_end, 10), [x_1_start[1]] * 10, [x_1_end[1]], color=\"black\", alpha=alpha)\n",
    "    ax.plot(np.linspace(x_0_start, x_0_end, 10), [0] * 10, linestyle=guide_linestyle, color=\"black\")\n",
    "    ax.scatter(x_0s, x_1bs, s=[w * 500 for w in xw], facecolors='none', edgecolors=color, marker='o')\n",
    "\n",
    "    # x_0 - y plot\n",
    "    ax = axs[2][i]\n",
    "    ax.set_xlim(x_0_start, x_0_end)\n",
    "    ax.set_ylim(y_start_lim[1], y_end_lim[1])\n",
    "    ax.set_xlabel(\"$x^0$\")\n",
    "    ax.set_ylabel(\"$y$\")\n",
    "    \n",
    "    ax.fill_between(np.linspace(x_0_start, x_0_end, 10), [y_start[1][0]] * 10, [y_end[1][0]] * 10, color=\"black\", alpha=alpha)\n",
    "    ax.plot(np.linspace(x_0_start, x_0_end, 10), [y_mean[1][0]] * 10, linestyle=guide_linestyle, color=\"black\")\n",
    "    ax.scatter(y_0s, y_1s, s=[w * 500 for w in yw], facecolors='none', edgecolors=color, marker='o')\n",
    "\n",
    "plt.tight_layout(rect=[0, 0.03, 1, 0.93])"
   ]
  },
  {
   "cell_type": "markdown",
   "metadata": {},
   "source": [
    "## Expected Values and Standard Deviations"
   ]
  },
  {
   "cell_type": "code",
   "execution_count": null,
   "metadata": {
    "scrolled": false
   },
   "outputs": [],
   "source": [
    "t = list(range(len(x_0ss[0])))\n",
    "\n",
    "y_exp_means, y_exp_stds = [], []\n",
    "for y_exps in [dnn_y_exps, mu_y_exps, du_y_exps, dbnn_y_exps]:\n",
    "    y_exps = [[y[1][0].numpy() if y is not None else np.nan for y in y_exp] for y_exp in y_exps]\n",
    "    y_exp_means.append(np.nanmean(y_exps, axis=0))\n",
    "    y_exp_stds.append(np.nanstd(y_exps, axis=0))\n",
    "\n",
    "y_std_means, y_std_stds = [], []\n",
    "for y_vars in [dnn_y_vars, mu_y_vars, du_y_vars, dbnn_y_vars]:\n",
    "    y_vars = [[y[1][0].numpy() if y is not None else np.nan for y in y_var] for y_var in y_vars]\n",
    "    y_stds = np.sqrt(y_vars)\n",
    "    y_std_means.append(np.nanmean(y_stds, axis=0))\n",
    "    y_std_stds.append(np.nanstd(y_stds, axis=0))\n",
    "    \n",
    "fig, (ax1, ax2) = plt.subplots(nrows=1, ncols=2, figsize=(10, 4))\n",
    "\n",
    "# expected value\n",
    "ax1.set_xlim(t[0], t[-1])\n",
    "ax1.set_ylim(x_0_meanss[0][0], x_0_meanss[0][-1])\n",
    "ax1.set_xlabel(\"$t$\")\n",
    "ax1.set_ylabel(\"$\\mathbb{E}[y]$\")\n",
    "\n",
    "ax1.plot(t, x_0_meanss[0], linestyle=guide_linestyle, color='black')\n",
    "for y_exp_mean, y_exp_std, linestyle, label, color in zip(y_exp_means, y_exp_stds, linestyles, labels, colors):\n",
    "    ax1.fill_between(t, y_exp_mean + 1.65 * y_exp_std, y_exp_mean - 1.65 * y_exp_std, color=color, alpha=alpha)\n",
    "    ax1.plot(t, y_exp_mean, linestyle=linestyle, label=label, color=color)\n",
    "ax1.legend(edgecolor='black', fancybox=False)\n",
    "\n",
    "\n",
    "# std\n",
    "ax2.set_xlim(t[0], t[-1])\n",
    "ax2.set_ylim(0, )\n",
    "ax2.set_xlabel(\"$t$\")\n",
    "ax2.set_ylabel(\"$std[y]$\")\n",
    "\n",
    "ax2.plot(t, x_0_meanss[0] * x_1_vars[0] + x_1_vars[1], linestyle=guide_linestyle, color='black')\n",
    "for y_std_mean, y_std_std, linestyle, label, color in zip(y_std_means, y_std_stds, linestyles, labels, colors):\n",
    "    ax2.fill_between(t, y_std_mean + 1.65 * y_std_std, y_std_mean - 1.65 * y_std_std, color=color, alpha=alpha)\n",
    "    ax2.plot(t, y_std_mean, linestyle=linestyle, label=label, color=color)\n",
    "ax2.legend(edgecolor='black', fancybox=False)\n",
    "\n",
    "plt.tight_layout()"
   ]
  },
  {
   "cell_type": "code",
   "execution_count": null,
   "metadata": {},
   "outputs": [],
   "source": []
  }
 ],
 "metadata": {
  "kernelspec": {
   "display_name": "Python 3",
   "language": "python",
   "name": "python3"
  },
  "language_info": {
   "codemirror_mode": {
    "name": "ipython",
    "version": 3
   },
   "file_extension": ".py",
   "mimetype": "text/x-python",
   "name": "python",
   "nbconvert_exporter": "python",
   "pygments_lexer": "ipython3",
   "version": "3.7.4"
  },
  "pycharm": {
   "stem_cell": {
    "cell_type": "raw",
    "metadata": {
     "collapsed": false
    },
    "source": []
   }
  }
 },
 "nbformat": 4,
 "nbformat_minor": 1
}
