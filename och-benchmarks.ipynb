{
 "cells": [
  {
   "cell_type": "markdown",
   "metadata": {
    "collapsed": true
   },
   "source": [
    "# OCH Benchmarks"
   ]
  },
  {
   "cell_type": "code",
   "execution_count": null,
   "metadata": {},
   "outputs": [],
   "source": [
    "import math\n",
    "import time\n",
    "import numpy as np\n",
    "import random\n",
    "import tensorflow as tf\n",
    "import matplotlib.pyplot as plt\n",
    "from och import OCH"
   ]
  },
  {
   "cell_type": "code",
   "execution_count": null,
   "metadata": {},
   "outputs": [],
   "source": [
    "plt.rcParams[\"font.family\"] = \"serif\"\n",
    "plt.rcParams[\"mathtext.fontset\"] = \"dejavuserif\"\n",
    "plt.rcParams[\"figure.figsize\"] = (8, 6)\n",
    "plt.rcParams[\"font.size\"] = 15\n",
    "plt.rcParams[\"figure.titlesize\"] = 25\n",
    "plt.rcParams[\"axes.labelsize\"] = 20\n",
    "plt.rcParams[\"xtick.labelsize\"] = 15\n",
    "plt.rcParams[\"ytick.labelsize\"] = 15\n",
    "plt.rcParams[\"legend.fontsize\"] = 13\n",
    "plt.rcParams[\"lines.linewidth\"] = 2"
   ]
  },
  {
   "cell_type": "code",
   "execution_count": null,
   "metadata": {},
   "outputs": [],
   "source": [
    "iter_no = 100\n",
    "params = {'k': 5, 'l': 5.0, 's': 1.0, 'dim': 100, 'hash_no': 3}\n",
    "\n",
    "color = \"tab:red\"\n",
    "guide_linestyle=(0, (1, 1))"
   ]
  },
  {
   "cell_type": "markdown",
   "metadata": {},
   "source": [
    "## Throughput Saturation by Cache"
   ]
  },
  {
   "cell_type": "code",
   "execution_count": null,
   "metadata": {},
   "outputs": [],
   "source": [
    "dims, x_0_no, x_1_no = [10 ** 2, 10 ** 6], 300, 10\n",
    "och1 = OCH(params['k'], params['l'], params['s'], dims, params['hash_no'])\n",
    "och2 = OCH(params['k'], params['l'], params['s'], dims, params['hash_no'], cache_no=[0, 0])\n",
    "x_0s = [tf.random.normal(shape=[dims[0]]) for _ in range(x_0_no)]\n",
    "x_1s = [tf.random.normal(shape=[dims[1]]) for _ in range(x_1_no)]\n",
    "xs = [[x_0, x_1s[random.randrange(len(x_1s))]] for x_0 in x_0s]\n",
    "\n",
    "runtimes1, runtimes2 = [], []\n",
    "for x in xs:\n",
    "    time1 = time.time()\n",
    "    och1.update(x)\n",
    "    time2 = time.time()\n",
    "    och2.update(x)\n",
    "    time3 = time.time()\n",
    "    runtimes1.append(time2 - time1)\n",
    "    runtimes2.append(time3 - time2)\n",
    "\n",
    "fig, ax = plt.subplots(nrows=1, ncols=1, figsize=(8, 6))\n",
    "ax.set_xlabel(\"data timestamp\")\n",
    "ax.set_ylabel(\"runtime (ms)\")\n",
    "ax.set_xlim(0, x_0_no)\n",
    "ax.plot(list(range(len(runtimes1))), [runtime1 * 10 ** 3 for runtime1 in runtimes1], color=color, label=\"with cache\")\n",
    "ax.plot(list(range(len(runtimes2))), [runtime2 * 10 ** 3 for runtime2 in runtimes2], color=\"tab:blue\", label=\"without cache\")\n",
    "ax.legend(edgecolor='black', fancybox=False)"
   ]
  },
  {
   "cell_type": "markdown",
   "metadata": {},
   "source": [
    "## Throughput for Hyperparameters"
   ]
  },
  {
   "cell_type": "markdown",
   "metadata": {},
   "source": [
    "### Throughput for dimension"
   ]
  },
  {
   "cell_type": "code",
   "execution_count": null,
   "metadata": {},
   "outputs": [],
   "source": [
    "dim_start, dim_end, dim_no = 1, 10 ** 6, 10\n",
    "dims = np.logspace(math.log(dim_start, 10), math.log(dim_end, 10), dim_no, dtype=np.int32)\n",
    "\n",
    "runtimes = []\n",
    "for dim in dims:\n",
    "    och = OCH(params['k'], params['l'], params['s'], [dim], params['hash_no'])\n",
    "    xs = [[tf.random.normal(shape=[dim])] for _ in range(iter_no)]\n",
    "    _runtimes = []\n",
    "    for x in xs:\n",
    "        time1 = time.time()\n",
    "        och.update(x)\n",
    "        time2 = time.time()\n",
    "        _runtimes.append(time2 - time1)\n",
    "    runtimes.append((dim, np.mean(_runtimes)))\n",
    "\n",
    "fig, ax = plt.subplots(nrows=1, ncols=1, figsize=(8, 6))\n",
    "ax.set_xlabel(\"dimension\")\n",
    "ax.set_ylabel(\"runtime (ms)\")\n",
    "ax.set_xlim(0, max([dim for dim, mean in runtimes]))\n",
    "ax.ticklabel_format(style='sci', axis='x', scilimits=(0,0))\n",
    "ax.axhline(runtimes[0][1] * 10 ** 3, ls=guide_linestyle, color=\"black\")\n",
    "ax.plot([dim for dim, mean in runtimes], [mean * 10 ** 3 for dim, mean in runtimes], color=color, marker='o')"
   ]
  },
  {
   "cell_type": "markdown",
   "metadata": {},
   "source": [
    "### Throughput for hash number"
   ]
  },
  {
   "cell_type": "code",
   "execution_count": null,
   "metadata": {},
   "outputs": [],
   "source": [
    "hn_start, hn_end, hn_by = 1, 10, 1\n",
    "hns = list(range(hn_start, hn_end, hn_by))\n",
    "\n",
    "runtimes = []\n",
    "for hn in hns:\n",
    "    och = OCH(params['k'], params['l'], params['s'], [params['dim']], hn)\n",
    "    xs = [[tf.random.normal(shape=[params['dim']])] for _ in range(iter_no)]\n",
    "    _runtimes = []\n",
    "    for x in xs:\n",
    "        time1 = time.time()\n",
    "        och.update(x)\n",
    "        time2 = time.time()\n",
    "        _runtimes.append(time2 - time1)\n",
    "    runtimes.append((hn, np.mean(_runtimes)))\n",
    "\n",
    "fig, ax = plt.subplots(nrows=1, ncols=1, figsize=(8, 6))\n",
    "ax.set_xlabel(\"hash number\")\n",
    "ax.set_ylabel(\"runtime (ms)\")\n",
    "ax.plot([hn for hn, mean in runtimes], [mean * 10 ** 3 for hn, mean in runtimes], color=color, marker='o')"
   ]
  },
  {
   "cell_type": "code",
   "execution_count": null,
   "metadata": {},
   "outputs": [],
   "source": []
  }
 ],
 "metadata": {
  "kernelspec": {
   "display_name": "Python 3",
   "language": "python",
   "name": "python3"
  },
  "language_info": {
   "codemirror_mode": {
    "name": "ipython",
    "version": 3
   },
   "file_extension": ".py",
   "mimetype": "text/x-python",
   "name": "python",
   "nbconvert_exporter": "python",
   "pygments_lexer": "ipython3",
   "version": "3.7.4"
  },
  "pycharm": {
   "stem_cell": {
    "cell_type": "raw",
    "metadata": {
     "collapsed": false
    },
    "source": []
   }
  }
 },
 "nbformat": 4,
 "nbformat_minor": 1
}
